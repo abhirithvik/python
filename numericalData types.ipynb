{
 "cells": [
  {
   "cell_type": "code",
   "execution_count": 5,
   "id": "0a98506e",
   "metadata": {},
   "outputs": [
    {
     "name": "stdout",
     "output_type": "stream",
     "text": [
      "10.34 <class 'float'>\n",
      "10 <class 'int'>\n",
      "5 <class 'str'>\n",
      "5 <class 'int'>\n",
      "(5-3j) <class 'complex'>\n"
     ]
    }
   ],
   "source": [
    "x = 10.34\n",
    "print(x, type(x))\n",
    "# type casting ----> changing the values type\n",
    "x = int(x)\n",
    "print(x, type(x))\n",
    "\n",
    "x = '5'\n",
    "print(x, type(x))\n",
    "x = int(x)\n",
    "print(x, type(x))\n",
    "\n",
    "x = 5-3j\n",
    "print(x, type(x))\n",
    "# x = int(x) # uncomment to see the code\n",
    "\n"
   ]
  },
  {
   "cell_type": "code",
   "execution_count": 6,
   "id": "d6a06217",
   "metadata": {},
   "outputs": [
    {
     "data": {
      "text/plain": [
       "(5.0, -3.0)"
      ]
     },
     "execution_count": 6,
     "metadata": {},
     "output_type": "execute_result"
    }
   ],
   "source": [
    "x.real, x.imag"
   ]
  },
  {
   "cell_type": "markdown",
   "id": "711e6879",
   "metadata": {},
   "source": [
    "### bin,oct & hex "
   ]
  },
  {
   "cell_type": "code",
   "execution_count": 7,
   "id": "b18a8cd3",
   "metadata": {},
   "outputs": [
    {
     "name": "stdout",
     "output_type": "stream",
     "text": [
      "5 <class 'int'>\n",
      "0b101 <class 'str'>\n"
     ]
    }
   ],
   "source": [
    "# binary\n",
    "x = 5 \n",
    "print(x, type(x))\n",
    "x = bin(x)\n",
    "print(x, type(x))"
   ]
  },
  {
   "cell_type": "code",
   "execution_count": 11,
   "id": "ab919e7d",
   "metadata": {},
   "outputs": [
    {
     "name": "stdout",
     "output_type": "stream",
     "text": [
      "17 <class 'int'>\n",
      "0o21 <class 'str'>\n"
     ]
    }
   ],
   "source": [
    "#octa\n",
    "x = 17 \n",
    "print(x, type(x))\n",
    "x = oct(x)\n",
    "print(x, type(x))"
   ]
  },
  {
   "cell_type": "code",
   "execution_count": 12,
   "id": "c4eca97b",
   "metadata": {},
   "outputs": [
    {
     "name": "stdout",
     "output_type": "stream",
     "text": [
      "17 <class 'int'>\n",
      "0x11 <class 'str'>\n"
     ]
    }
   ],
   "source": [
    "#hex\n",
    "x = 17 \n",
    "print(x, type(x))\n",
    "x = hex(x)\n",
    "print(x, type(x))"
   ]
  },
  {
   "cell_type": "markdown",
   "id": "7ae4eb0c",
   "metadata": {},
   "source": [
    "### converting bin,oct & hex values to int"
   ]
  },
  {
   "cell_type": "code",
   "execution_count": 16,
   "id": "c8e27a8e",
   "metadata": {},
   "outputs": [
    {
     "data": {
      "text/plain": [
       "(17, 17)"
      ]
     },
     "execution_count": 16,
     "metadata": {},
     "output_type": "execute_result"
    }
   ],
   "source": [
    "int('0x11',0), int('011',16)"
   ]
  },
  {
   "cell_type": "code",
   "execution_count": 21,
   "id": "7c4a5ef4",
   "metadata": {},
   "outputs": [
    {
     "data": {
      "text/plain": [
       "(17, 17)"
      ]
     },
     "execution_count": 21,
     "metadata": {},
     "output_type": "execute_result"
    }
   ],
   "source": [
    "int('0o21',0), int('021',8)"
   ]
  },
  {
   "cell_type": "code",
   "execution_count": 18,
   "id": "a630d468",
   "metadata": {},
   "outputs": [
    {
     "data": {
      "text/plain": [
       "(5, 5)"
      ]
     },
     "execution_count": 18,
     "metadata": {},
     "output_type": "execute_result"
    }
   ],
   "source": [
    "int('0b101',0), int('101',2)"
   ]
  },
  {
   "cell_type": "markdown",
   "id": "a75a856e",
   "metadata": {},
   "source": []
  },
  {
   "cell_type": "markdown",
   "id": "764d5ef6",
   "metadata": {},
   "source": [
    "### int() with user defined bases"
   ]
  },
  {
   "cell_type": "code",
   "execution_count": 19,
   "id": "5f12e0de",
   "metadata": {},
   "outputs": [
    {
     "data": {
      "text/plain": [
       "(4, 16, 36)"
      ]
     },
     "execution_count": 19,
     "metadata": {},
     "output_type": "execute_result"
    }
   ],
   "source": [
    "int('0011', 3),int('0011', 15),int('0011',35)"
   ]
  },
  {
   "cell_type": "markdown",
   "id": "9fdf41cc",
   "metadata": {},
   "source": [
    "<img src=\"https://i.ytimg.com/vi/ktXaWMb6Kn8/hqdefault.jpg\"  width=\"500\" height=\"400\" class=\"blog-image\" >"
   ]
  },
  {
   "cell_type": "markdown",
   "id": "0d2592a8",
   "metadata": {},
   "source": [
    " ### DATA TYPE IN PYTHON:\n",
    "#numeric-->int(bin,oct,hex),float,complex.\n",
    "#sequence(ordered or unordered)-->strings(\"\",\"\",\"),lists[],tuples()."
   ]
  },
  {
   "cell_type": "code",
   "execution_count": 32,
   "id": "e30356c1",
   "metadata": {},
   "outputs": [
    {
     "data": {
      "text/plain": [
       "'0'"
      ]
     },
     "execution_count": 32,
     "metadata": {},
     "output_type": "execute_result"
    }
   ],
   "source": [
    "#string indexing and slicing.\n",
    "x = 'hell0'\n",
    "x[4]\n"
   ]
  },
  {
   "cell_type": "code",
   "execution_count": 34,
   "id": "df727def",
   "metadata": {},
   "outputs": [
    {
     "data": {
      "text/plain": [
       "'e'"
      ]
     },
     "execution_count": 34,
     "metadata": {},
     "output_type": "execute_result"
    }
   ],
   "source": [
    "x[1]"
   ]
  },
  {
   "cell_type": "markdown",
   "id": "1060f417",
   "metadata": {},
   "source": [
    "### slicing"
   ]
  },
  {
   "cell_type": "code",
   "execution_count": 35,
   "id": "8e323cbf",
   "metadata": {},
   "outputs": [
    {
     "name": "stdout",
     "output_type": "stream",
     "text": [
      "room r\n",
      "classroom r\n",
      "room rules\n",
      "ro \n"
     ]
    }
   ],
   "source": [
    "#syntax:[start_index:end_index:step] By default step = 1. \n",
    "y = 'classroom rules'\n",
    "print(y[5:11])\n",
    "print(y[:11])\n",
    "print(y[5:])\n",
    "print(y[5:11:2])"
   ]
  },
  {
   "cell_type": "code",
   "execution_count": 40,
   "id": "d7b86bbc",
   "metadata": {},
   "outputs": [
    {
     "name": "stdout",
     "output_type": "stream",
     "text": [
      "5.3\n",
      "[1, 5.3, <built-in function print>, (5+3j)]\n",
      "[<built-in function print>, (5+3j), 'hello', True]\n",
      "hello\n",
      "[]\n",
      "[True, 'hello', (5+3j), <built-in function print>, 5.3, 1]\n"
     ]
    }
   ],
   "source": [
    "#list:list is a heterogeneous container.It can contain int,float,complex,string,boolen.\n",
    "x = [1,5.3,print,5+3j,'hello',True]\n",
    "print(x[1])\n",
    "print(x[:4])\n",
    "print(x[2:])\n",
    "print(x[-2])   #negitive indexing in python starts from -1\n",
    "print(x[-1:-5])\n",
    "print(x[::-1]) #reversing syntax:[::-1]"
   ]
  },
  {
   "cell_type": "code",
   "execution_count": null,
   "id": "da734a44",
   "metadata": {},
   "outputs": [],
   "source": []
  }
 ],
 "metadata": {
  "kernelspec": {
   "display_name": "Python 3 (ipykernel)",
   "language": "python",
   "name": "python3"
  },
  "language_info": {
   "codemirror_mode": {
    "name": "ipython",
    "version": 3
   },
   "file_extension": ".py",
   "mimetype": "text/x-python",
   "name": "python",
   "nbconvert_exporter": "python",
   "pygments_lexer": "ipython3",
   "version": "3.11.2"
  }
 },
 "nbformat": 4,
 "nbformat_minor": 5
}
